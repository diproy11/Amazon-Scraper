{
 "cells": [
  {
   "cell_type": "code",
   "execution_count": 40,
   "id": "5cb9dc7b",
   "metadata": {},
   "outputs": [],
   "source": [
    "import csv\n",
    "from bs4 import BeautifulSoup\n",
    "from selenium.webdriver import Chrome\n",
    "import pandas as pd"
   ]
  },
  {
   "cell_type": "code",
   "execution_count": 41,
   "id": "a05cf1bb",
   "metadata": {},
   "outputs": [],
   "source": [
    "driver = Chrome()\n",
    "url = 'https://www.amazon.com'\n",
    "driver.get(url)\n",
    "\n",
    "review_l=[]\n",
    "\n",
    "\n",
    "def get_url(asin,pagination):\n",
    "    \n",
    "    template = 'https://www.amazon.com/SNICKERS-Singles-Chocolate-1-86-Ounce-48-Count/product-reviews/{}/ref=cm_cr_arp_d_paging_btm_next_2?ie=UTF8&reviewerType=all_reviews&pageNumber={}'\n",
    "    \n",
    "    return template.format(asin,pagination)\n",
    "\n",
    "def get_soup(url):\n",
    "    html = driver.page_source\n",
    "    soup = BeautifulSoup(html)\n",
    "\n",
    "    return soup\n",
    "\n",
    "\n",
    "\n",
    "def review_list(soup):\n",
    "    reviews = soup.find_all('div',{'data-hook':'review'})\n",
    "    product = soup.find('a',{'data-hook':'product-link'}).text\n",
    "    try:\n",
    "        for item in reviews:\n",
    "            review = {\n",
    "                'product name':product,\n",
    "                'date':item.find('span',{'data-hook':'review-date'}).text.replace('Reviewed in the United States on ','').strip(),\n",
    "                'title':item.find('a',{'data-hook':'review-title'}).text.strip(),\n",
    "            'rating':float(item.find('i',{'data-hook':'review-star-rating'}).text.replace('out of 5 stars','').strip()),\n",
    "            'comment':item.find('span',{'data-hook':'review-body'}).text.strip()\n",
    "            }\n",
    "\n",
    "            review_l.append(review)\n",
    "    except:\n",
    "        pass"
   ]
  },
  {
   "cell_type": "code",
   "execution_count": 30,
   "id": "a4a88826",
   "metadata": {},
   "outputs": [
    {
     "data": {
      "text/plain": [
       "'Reviewed in the United States 🇺🇸 on March 30, 2023'"
      ]
     },
     "execution_count": 30,
     "metadata": {},
     "output_type": "execute_result"
    }
   ],
   "source": [
    "url = get_url('B08J37H3QK',1)\n",
    "driver.get(url)\n",
    "    \n",
    "soup = get_soup(url)\n",
    "t = soup.find('span',{'data-hook':'review-date'}).text\n",
    "t.replace('Reviewed in the United States on ','').strip()"
   ]
  },
  {
   "cell_type": "markdown",
   "id": "45777f2d",
   "metadata": {},
   "source": [
    "# Extracting Snicker Data from Amazon"
   ]
  },
  {
   "cell_type": "code",
   "execution_count": 4,
   "id": "14187392",
   "metadata": {},
   "outputs": [],
   "source": [
    "# for i in range(1,1000):\n",
    "    \n",
    "#     '''\n",
    "#     SNICKER's asin:\n",
    "    \n",
    "#     B001HXI0V0,\n",
    "#     B08NZMZRX5,\n",
    "#     B0029JHH4W,\n",
    "#     B0029JFW8U,\n",
    "#     B004SKKJ2M\n",
    "    \n",
    "#     '''\n",
    "    \n",
    "#     url = get_url('B0029JHH4W',i)\n",
    "#     driver.get(url)\n",
    "    \n",
    "#     soup = get_soup(url)\n",
    "#     review_list(soup)\n",
    "#     print(len(review_l))\n",
    "#     if not soup.find('li',{'class':'a-disabled a-last'}):\n",
    "#         pass\n",
    "#     else:\n",
    "#         break"
   ]
  },
  {
   "cell_type": "code",
   "execution_count": 5,
   "id": "37442bb4",
   "metadata": {},
   "outputs": [],
   "source": [
    "# df = pd.DataFrame(review_l)\n",
    "# df.to_excel('SNICKERS-amazon-review.xlsx',index=False)"
   ]
  },
  {
   "cell_type": "markdown",
   "id": "ff282392",
   "metadata": {},
   "source": [
    "# Extracting Oreos\n"
   ]
  },
  {
   "cell_type": "code",
   "execution_count": 6,
   "id": "7fe3a846",
   "metadata": {},
   "outputs": [],
   "source": [
    "# for i in range(1,10000):\n",
    "    \n",
    "#     '''\n",
    "#     Oreos's asin:\n",
    "    \n",
    "#     B07ZR3D5T9,\n",
    "#     B07ZV2DXDJ,\n",
    "#     B07G4ZG3GR,\n",
    "#     B078PDK5B5,\n",
    "#     B00G4U6QJY\n",
    "    \n",
    "#     '''\n",
    "    \n",
    "#     url = get_url('B00G4U6QJY',i)\n",
    "#     driver.get(url)\n",
    "    \n",
    "#     soup = get_soup(url)\n",
    "#     review_list(soup)\n",
    "#     print(len(review_l),end=\" , \")\n",
    "#     if not soup.find('li',{'class':'a-disabled a-last'}):\n",
    "#         pass\n",
    "#     else:\n",
    "#         break"
   ]
  },
  {
   "cell_type": "code",
   "execution_count": 7,
   "id": "46200421",
   "metadata": {},
   "outputs": [],
   "source": [
    "# df = pd.DataFrame(review_l)\n",
    "# df"
   ]
  },
  {
   "cell_type": "code",
   "execution_count": 8,
   "id": "a3acab3c",
   "metadata": {},
   "outputs": [],
   "source": [
    "# df.to_excel('oreo-amazon-review.xlsx',index=False)"
   ]
  },
  {
   "cell_type": "markdown",
   "id": "0c9ea2cc",
   "metadata": {},
   "source": [
    "# Extracting Toblerone"
   ]
  },
  {
   "cell_type": "code",
   "execution_count": 42,
   "id": "790dfcaf",
   "metadata": {},
   "outputs": [
    {
     "name": "stdout",
     "output_type": "stream",
     "text": [
      "10 , 20 , 30 , 40 , 50 , 60 , 70 , 80 , 90 , 100 , 110 , 120 , 130 , 140 , 150 , 160 , 162 , 162 , 172 , 182 , 192 , 202 , 212 , 222 , 232 , 242 , 252 , 258 , 258 , 266 , 276 , 281 , 281 , 284 , 294 , 304 , 314 , 324 , 334 , 344 , 354 , 364 , 374 , 384 , 394 , 404 , 414 , 424 , 434 , 444 , 454 , 464 , 473 , 473 , 473 , 483 , 493 , 503 , 513 , 523 , 533 , 543 , 553 , 563 , 573 , 583 , 593 , 603 , 613 , 623 , 633 , 643 , 653 , 662 , 662 , 662 , 672 , 682 , 692 , 702 , 712 , 722 , 732 , 742 , 752 , 762 , 772 , 782 , 792 , 802 , 812 , 822 , 829 , 829 , 836 , 846 , 856 , 866 , 876 , 886 , 896 , 897 , 897 , 897 , 907 , 917 , 927 , 934 , 934 , 934 , "
     ]
    }
   ],
   "source": [
    " '''\n",
    "    Toblerone's asin:\n",
    "    \n",
    "    B08J37H3QK,\n",
    "    B000H1327A,\n",
    "    B09HLGFMK2,\n",
    "    B09HLGHC91,\n",
    "    B0BFK5679M,\n",
    "    B0090JN66M,\n",
    "    B0753KDX7X,\n",
    "    B00IHVS5PQ,\n",
    "    B09HLGMQHZ,\n",
    "    B09H19CX8S,\n",
    "    B0BFK2WXB3,\n",
    "    B0753KPZHM,\n",
    "    B0BFK29M3N\n",
    "    \n",
    "    '''\n",
    "\n",
    "asins =['B08J37H3QK',\n",
    "    'B000H1327A',\n",
    "    'B09HLGFMK2',\n",
    "    'B09HLGHC91',\n",
    "    'B0BFK5679M',\n",
    "    'B0090JN66M',\n",
    "    'B0753KDX7X',\n",
    "    'B00IHVS5PQ',\n",
    "    'B09HLGMQHZ',\n",
    "    'B09H19CX8S',\n",
    "    'B0BFK2WXB3',\n",
    "    'B0753KPZHM',\n",
    "    'B0BFK29M3N']\n",
    "\n",
    "for asin in asins:\n",
    "    for i in range(1,10000):\n",
    "\n",
    "        url = get_url(asin,i)\n",
    "        driver.get(url)\n",
    "\n",
    "        soup = get_soup(url)\n",
    "        review_list(soup)\n",
    "        print(len(review_l),end=\" , \")\n",
    "        if soup.find('li',{'class':'a-last'}):\n",
    "            pass\n",
    "        elif soup.find('li',{'class':'a-disabled a-last'}):\n",
    "            break\n",
    "        else:\n",
    "            break"
   ]
  },
  {
   "cell_type": "code",
   "execution_count": 10,
   "id": "4664666f",
   "metadata": {},
   "outputs": [],
   "source": [
    "# for i in range(1,10000):\n",
    "\n",
    "#     url = get_url('B09HLGFMK2',i)\n",
    "#     driver.get(url)\n",
    "\n",
    "#     soup = get_soup(url)\n",
    "#     review_list(soup)\n",
    "#     print(len(review_l),end=\" , \")\n",
    "#     if not soup.find('li',{'class':'a-disabled a-last'}) and soup.find('li',{'class':'a-last'}):\n",
    "#         pass\n",
    "#     else:\n",
    "#         break"
   ]
  },
  {
   "cell_type": "code",
   "execution_count": 11,
   "id": "49b67433",
   "metadata": {},
   "outputs": [],
   "source": [
    "# url = get_url('B0BFK2WXB3',1)\n",
    "# driver.get(url)\n",
    "    \n",
    "# soup = get_soup(url)\n",
    "\n",
    "# soup.find('div',{\"data-hook\":\"cr-filter-info-review-rating-count\"}).text.strip() "
   ]
  },
  {
   "cell_type": "code",
   "execution_count": 45,
   "id": "eccd3c6e",
   "metadata": {},
   "outputs": [],
   "source": [
    "df = pd.DataFrame(review_l)\n",
    "df\n",
    "df.to_excel('Toblerone-amazon-review.xlsx',index=False)"
   ]
  },
  {
   "cell_type": "code",
   "execution_count": 44,
   "id": "75e6849a",
   "metadata": {},
   "outputs": [
    {
     "data": {
      "text/plain": [
       "608"
      ]
     },
     "execution_count": 44,
     "metadata": {},
     "output_type": "execute_result"
    }
   ],
   "source": [
    "df['title'].nunique()"
   ]
  },
  {
   "cell_type": "code",
   "execution_count": 39,
   "id": "a0f89fc3",
   "metadata": {},
   "outputs": [],
   "source": []
  },
  {
   "cell_type": "code",
   "execution_count": null,
   "id": "b71db6dd",
   "metadata": {},
   "outputs": [],
   "source": []
  }
 ],
 "metadata": {
  "kernelspec": {
   "display_name": "Python 3 (ipykernel)",
   "language": "python",
   "name": "python3"
  },
  "language_info": {
   "codemirror_mode": {
    "name": "ipython",
    "version": 3
   },
   "file_extension": ".py",
   "mimetype": "text/x-python",
   "name": "python",
   "nbconvert_exporter": "python",
   "pygments_lexer": "ipython3",
   "version": "3.9.13"
  }
 },
 "nbformat": 4,
 "nbformat_minor": 5
}
